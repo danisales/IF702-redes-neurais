{
 "cells": [
  {
   "cell_type": "code",
   "execution_count": 755,
   "metadata": {},
   "outputs": [],
   "source": [
    "import numpy as np\n",
    "import pandas as pd"
   ]
  },
  {
   "cell_type": "code",
   "execution_count": 756,
   "metadata": {},
   "outputs": [],
   "source": [
    "dataset = pd.read_csv('data/mammography.csv.zip')\n",
    "dataset.drop_duplicates(inplace=True)"
   ]
  },
  {
   "cell_type": "code",
   "execution_count": 757,
   "metadata": {},
   "outputs": [
    {
     "data": {
      "text/html": [
       "<div>\n",
       "<style>\n",
       "    .dataframe thead tr:only-child th {\n",
       "        text-align: right;\n",
       "    }\n",
       "\n",
       "    .dataframe thead th {\n",
       "        text-align: left;\n",
       "    }\n",
       "\n",
       "    .dataframe tbody tr th {\n",
       "        vertical-align: top;\n",
       "    }\n",
       "</style>\n",
       "<table border=\"1\" class=\"dataframe\">\n",
       "  <thead>\n",
       "    <tr style=\"text-align: right;\">\n",
       "      <th></th>\n",
       "      <th>X1</th>\n",
       "      <th>X2</th>\n",
       "      <th>X3</th>\n",
       "      <th>X4</th>\n",
       "      <th>X5</th>\n",
       "      <th>X6</th>\n",
       "      <th>class</th>\n",
       "    </tr>\n",
       "  </thead>\n",
       "  <tbody>\n",
       "    <tr>\n",
       "      <th>0</th>\n",
       "      <td>0.230020</td>\n",
       "      <td>5.072578</td>\n",
       "      <td>-0.276061</td>\n",
       "      <td>0.832444</td>\n",
       "      <td>-0.377866</td>\n",
       "      <td>0.480322</td>\n",
       "      <td>-1</td>\n",
       "    </tr>\n",
       "    <tr>\n",
       "      <th>1</th>\n",
       "      <td>0.155491</td>\n",
       "      <td>-0.169390</td>\n",
       "      <td>0.670652</td>\n",
       "      <td>-0.859553</td>\n",
       "      <td>-0.377866</td>\n",
       "      <td>-0.945723</td>\n",
       "      <td>-1</td>\n",
       "    </tr>\n",
       "    <tr>\n",
       "      <th>2</th>\n",
       "      <td>-0.784415</td>\n",
       "      <td>-0.443654</td>\n",
       "      <td>5.674705</td>\n",
       "      <td>-0.859553</td>\n",
       "      <td>-0.377866</td>\n",
       "      <td>-0.945723</td>\n",
       "      <td>-1</td>\n",
       "    </tr>\n",
       "    <tr>\n",
       "      <th>3</th>\n",
       "      <td>0.546088</td>\n",
       "      <td>0.131415</td>\n",
       "      <td>-0.456387</td>\n",
       "      <td>-0.859553</td>\n",
       "      <td>-0.377866</td>\n",
       "      <td>-0.945723</td>\n",
       "      <td>-1</td>\n",
       "    </tr>\n",
       "    <tr>\n",
       "      <th>4</th>\n",
       "      <td>-0.102987</td>\n",
       "      <td>-0.394994</td>\n",
       "      <td>-0.140816</td>\n",
       "      <td>0.979703</td>\n",
       "      <td>-0.377866</td>\n",
       "      <td>1.013566</td>\n",
       "      <td>-1</td>\n",
       "    </tr>\n",
       "  </tbody>\n",
       "</table>\n",
       "</div>"
      ],
      "text/plain": [
       "         X1        X2        X3        X4        X5        X6  class\n",
       "0  0.230020  5.072578 -0.276061  0.832444 -0.377866  0.480322     -1\n",
       "1  0.155491 -0.169390  0.670652 -0.859553 -0.377866 -0.945723     -1\n",
       "2 -0.784415 -0.443654  5.674705 -0.859553 -0.377866 -0.945723     -1\n",
       "3  0.546088  0.131415 -0.456387 -0.859553 -0.377866 -0.945723     -1\n",
       "4 -0.102987 -0.394994 -0.140816  0.979703 -0.377866  1.013566     -1"
      ]
     },
     "execution_count": 757,
     "metadata": {},
     "output_type": "execute_result"
    }
   ],
   "source": [
    "dataset.head()"
   ]
  },
  {
   "cell_type": "code",
   "execution_count": 758,
   "metadata": {},
   "outputs": [
    {
     "data": {
      "text/html": [
       "<div>\n",
       "<style>\n",
       "    .dataframe thead tr:only-child th {\n",
       "        text-align: right;\n",
       "    }\n",
       "\n",
       "    .dataframe thead th {\n",
       "        text-align: left;\n",
       "    }\n",
       "\n",
       "    .dataframe tbody tr th {\n",
       "        vertical-align: top;\n",
       "    }\n",
       "</style>\n",
       "<table border=\"1\" class=\"dataframe\">\n",
       "  <thead>\n",
       "    <tr style=\"text-align: right;\">\n",
       "      <th></th>\n",
       "      <th>X1</th>\n",
       "      <th>X2</th>\n",
       "      <th>X3</th>\n",
       "      <th>X4</th>\n",
       "      <th>X5</th>\n",
       "      <th>X6</th>\n",
       "      <th>class</th>\n",
       "    </tr>\n",
       "  </thead>\n",
       "  <tbody>\n",
       "    <tr>\n",
       "      <th>11178</th>\n",
       "      <td>-0.250012</td>\n",
       "      <td>-0.377300</td>\n",
       "      <td>-0.321142</td>\n",
       "      <td>1.269157</td>\n",
       "      <td>3.652984</td>\n",
       "      <td>1.092791</td>\n",
       "      <td>1</td>\n",
       "    </tr>\n",
       "    <tr>\n",
       "      <th>11179</th>\n",
       "      <td>0.281343</td>\n",
       "      <td>-0.417112</td>\n",
       "      <td>-0.366224</td>\n",
       "      <td>0.851010</td>\n",
       "      <td>2.789649</td>\n",
       "      <td>1.345700</td>\n",
       "      <td>1</td>\n",
       "    </tr>\n",
       "    <tr>\n",
       "      <th>11180</th>\n",
       "      <td>1.204988</td>\n",
       "      <td>1.763724</td>\n",
       "      <td>-0.501468</td>\n",
       "      <td>1.562408</td>\n",
       "      <td>6.489072</td>\n",
       "      <td>0.931294</td>\n",
       "      <td>1</td>\n",
       "    </tr>\n",
       "    <tr>\n",
       "      <th>11181</th>\n",
       "      <td>0.736644</td>\n",
       "      <td>-0.222474</td>\n",
       "      <td>-0.050653</td>\n",
       "      <td>1.509665</td>\n",
       "      <td>0.539269</td>\n",
       "      <td>1.315229</td>\n",
       "      <td>1</td>\n",
       "    </tr>\n",
       "    <tr>\n",
       "      <th>11182</th>\n",
       "      <td>0.177003</td>\n",
       "      <td>-0.191508</td>\n",
       "      <td>-0.501468</td>\n",
       "      <td>1.578864</td>\n",
       "      <td>7.750705</td>\n",
       "      <td>1.555951</td>\n",
       "      <td>1</td>\n",
       "    </tr>\n",
       "  </tbody>\n",
       "</table>\n",
       "</div>"
      ],
      "text/plain": [
       "             X1        X2        X3        X4        X5        X6  class\n",
       "11178 -0.250012 -0.377300 -0.321142  1.269157  3.652984  1.092791      1\n",
       "11179  0.281343 -0.417112 -0.366224  0.851010  2.789649  1.345700      1\n",
       "11180  1.204988  1.763724 -0.501468  1.562408  6.489072  0.931294      1\n",
       "11181  0.736644 -0.222474 -0.050653  1.509665  0.539269  1.315229      1\n",
       "11182  0.177003 -0.191508 -0.501468  1.578864  7.750705  1.555951      1"
      ]
     },
     "execution_count": 758,
     "metadata": {},
     "output_type": "execute_result"
    }
   ],
   "source": [
    "dataset.tail()"
   ]
  },
  {
   "cell_type": "code",
   "execution_count": 759,
   "metadata": {},
   "outputs": [],
   "source": [
    "target = 'class'\n",
    "# No dataset de mamografia as classes estão definidas como -1 e 1\n",
    "# É preciso que os valores sejam 0 e 1\n",
    "if dataset.loc[dataset[target] == -1][target].count() != 0:\n",
    "    # Todos os valores da coluna 'class' que são -1 são trocados para 0\n",
    "    dataset[target] = dataset[target].map({-1 : 0, 1 : 1})"
   ]
  },
  {
   "cell_type": "code",
   "execution_count": 760,
   "metadata": {
    "scrolled": true
   },
   "outputs": [
    {
     "data": {
      "text/html": [
       "<div>\n",
       "<style>\n",
       "    .dataframe thead tr:only-child th {\n",
       "        text-align: right;\n",
       "    }\n",
       "\n",
       "    .dataframe thead th {\n",
       "        text-align: left;\n",
       "    }\n",
       "\n",
       "    .dataframe tbody tr th {\n",
       "        vertical-align: top;\n",
       "    }\n",
       "</style>\n",
       "<table border=\"1\" class=\"dataframe\">\n",
       "  <thead>\n",
       "    <tr style=\"text-align: right;\">\n",
       "      <th></th>\n",
       "      <th>X1</th>\n",
       "      <th>X2</th>\n",
       "      <th>X3</th>\n",
       "      <th>X4</th>\n",
       "      <th>X5</th>\n",
       "      <th>X6</th>\n",
       "      <th>class</th>\n",
       "    </tr>\n",
       "  </thead>\n",
       "  <tbody>\n",
       "    <tr>\n",
       "      <th>0</th>\n",
       "      <td>0.230020</td>\n",
       "      <td>5.072578</td>\n",
       "      <td>-0.276061</td>\n",
       "      <td>0.832444</td>\n",
       "      <td>-0.377866</td>\n",
       "      <td>0.480322</td>\n",
       "      <td>0</td>\n",
       "    </tr>\n",
       "    <tr>\n",
       "      <th>1</th>\n",
       "      <td>0.155491</td>\n",
       "      <td>-0.169390</td>\n",
       "      <td>0.670652</td>\n",
       "      <td>-0.859553</td>\n",
       "      <td>-0.377866</td>\n",
       "      <td>-0.945723</td>\n",
       "      <td>0</td>\n",
       "    </tr>\n",
       "    <tr>\n",
       "      <th>2</th>\n",
       "      <td>-0.784415</td>\n",
       "      <td>-0.443654</td>\n",
       "      <td>5.674705</td>\n",
       "      <td>-0.859553</td>\n",
       "      <td>-0.377866</td>\n",
       "      <td>-0.945723</td>\n",
       "      <td>0</td>\n",
       "    </tr>\n",
       "    <tr>\n",
       "      <th>3</th>\n",
       "      <td>0.546088</td>\n",
       "      <td>0.131415</td>\n",
       "      <td>-0.456387</td>\n",
       "      <td>-0.859553</td>\n",
       "      <td>-0.377866</td>\n",
       "      <td>-0.945723</td>\n",
       "      <td>0</td>\n",
       "    </tr>\n",
       "    <tr>\n",
       "      <th>4</th>\n",
       "      <td>-0.102987</td>\n",
       "      <td>-0.394994</td>\n",
       "      <td>-0.140816</td>\n",
       "      <td>0.979703</td>\n",
       "      <td>-0.377866</td>\n",
       "      <td>1.013566</td>\n",
       "      <td>0</td>\n",
       "    </tr>\n",
       "  </tbody>\n",
       "</table>\n",
       "</div>"
      ],
      "text/plain": [
       "         X1        X2        X3        X4        X5        X6  class\n",
       "0  0.230020  5.072578 -0.276061  0.832444 -0.377866  0.480322      0\n",
       "1  0.155491 -0.169390  0.670652 -0.859553 -0.377866 -0.945723      0\n",
       "2 -0.784415 -0.443654  5.674705 -0.859553 -0.377866 -0.945723      0\n",
       "3  0.546088  0.131415 -0.456387 -0.859553 -0.377866 -0.945723      0\n",
       "4 -0.102987 -0.394994 -0.140816  0.979703 -0.377866  1.013566      0"
      ]
     },
     "execution_count": 760,
     "metadata": {},
     "output_type": "execute_result"
    }
   ],
   "source": [
    "dataset.head()"
   ]
  },
  {
   "cell_type": "code",
   "execution_count": 761,
   "metadata": {},
   "outputs": [],
   "source": [
    "classA = dataset.loc[dataset[target] == 0] # Cria dataset só com os exemplos da classe 0\n",
    "classB = dataset.loc[dataset[target] == 1] # Cria dataset só com os exemplos da classe 1"
   ]
  },
  {
   "cell_type": "code",
   "execution_count": 762,
   "metadata": {},
   "outputs": [
    {
     "data": {
      "text/html": [
       "<div>\n",
       "<style>\n",
       "    .dataframe thead tr:only-child th {\n",
       "        text-align: right;\n",
       "    }\n",
       "\n",
       "    .dataframe thead th {\n",
       "        text-align: left;\n",
       "    }\n",
       "\n",
       "    .dataframe tbody tr th {\n",
       "        vertical-align: top;\n",
       "    }\n",
       "</style>\n",
       "<table border=\"1\" class=\"dataframe\">\n",
       "  <thead>\n",
       "    <tr style=\"text-align: right;\">\n",
       "      <th></th>\n",
       "      <th>X1</th>\n",
       "      <th>X2</th>\n",
       "      <th>X3</th>\n",
       "      <th>X4</th>\n",
       "      <th>X5</th>\n",
       "      <th>X6</th>\n",
       "      <th>class</th>\n",
       "    </tr>\n",
       "  </thead>\n",
       "  <tbody>\n",
       "    <tr>\n",
       "      <th>0</th>\n",
       "      <td>0.230020</td>\n",
       "      <td>5.072578</td>\n",
       "      <td>-0.276061</td>\n",
       "      <td>0.832444</td>\n",
       "      <td>-0.377866</td>\n",
       "      <td>0.480322</td>\n",
       "      <td>0</td>\n",
       "    </tr>\n",
       "    <tr>\n",
       "      <th>1</th>\n",
       "      <td>0.155491</td>\n",
       "      <td>-0.169390</td>\n",
       "      <td>0.670652</td>\n",
       "      <td>-0.859553</td>\n",
       "      <td>-0.377866</td>\n",
       "      <td>-0.945723</td>\n",
       "      <td>0</td>\n",
       "    </tr>\n",
       "    <tr>\n",
       "      <th>2</th>\n",
       "      <td>-0.784415</td>\n",
       "      <td>-0.443654</td>\n",
       "      <td>5.674705</td>\n",
       "      <td>-0.859553</td>\n",
       "      <td>-0.377866</td>\n",
       "      <td>-0.945723</td>\n",
       "      <td>0</td>\n",
       "    </tr>\n",
       "    <tr>\n",
       "      <th>3</th>\n",
       "      <td>0.546088</td>\n",
       "      <td>0.131415</td>\n",
       "      <td>-0.456387</td>\n",
       "      <td>-0.859553</td>\n",
       "      <td>-0.377866</td>\n",
       "      <td>-0.945723</td>\n",
       "      <td>0</td>\n",
       "    </tr>\n",
       "    <tr>\n",
       "      <th>4</th>\n",
       "      <td>-0.102987</td>\n",
       "      <td>-0.394994</td>\n",
       "      <td>-0.140816</td>\n",
       "      <td>0.979703</td>\n",
       "      <td>-0.377866</td>\n",
       "      <td>1.013566</td>\n",
       "      <td>0</td>\n",
       "    </tr>\n",
       "  </tbody>\n",
       "</table>\n",
       "</div>"
      ],
      "text/plain": [
       "         X1        X2        X3        X4        X5        X6  class\n",
       "0  0.230020  5.072578 -0.276061  0.832444 -0.377866  0.480322      0\n",
       "1  0.155491 -0.169390  0.670652 -0.859553 -0.377866 -0.945723      0\n",
       "2 -0.784415 -0.443654  5.674705 -0.859553 -0.377866 -0.945723      0\n",
       "3  0.546088  0.131415 -0.456387 -0.859553 -0.377866 -0.945723      0\n",
       "4 -0.102987 -0.394994 -0.140816  0.979703 -0.377866  1.013566      0"
      ]
     },
     "execution_count": 762,
     "metadata": {},
     "output_type": "execute_result"
    }
   ],
   "source": [
    "classA.head()"
   ]
  },
  {
   "cell_type": "code",
   "execution_count": 763,
   "metadata": {},
   "outputs": [
    {
     "data": {
      "text/html": [
       "<div>\n",
       "<style>\n",
       "    .dataframe thead tr:only-child th {\n",
       "        text-align: right;\n",
       "    }\n",
       "\n",
       "    .dataframe thead th {\n",
       "        text-align: left;\n",
       "    }\n",
       "\n",
       "    .dataframe tbody tr th {\n",
       "        vertical-align: top;\n",
       "    }\n",
       "</style>\n",
       "<table border=\"1\" class=\"dataframe\">\n",
       "  <thead>\n",
       "    <tr style=\"text-align: right;\">\n",
       "      <th></th>\n",
       "      <th>X1</th>\n",
       "      <th>X2</th>\n",
       "      <th>X3</th>\n",
       "      <th>X4</th>\n",
       "      <th>X5</th>\n",
       "      <th>X6</th>\n",
       "      <th>class</th>\n",
       "    </tr>\n",
       "  </thead>\n",
       "  <tbody>\n",
       "    <tr>\n",
       "      <th>1093</th>\n",
       "      <td>-0.335889</td>\n",
       "      <td>-0.452501</td>\n",
       "      <td>-0.591631</td>\n",
       "      <td>0.817254</td>\n",
       "      <td>-0.377866</td>\n",
       "      <td>1.034896</td>\n",
       "      <td>1</td>\n",
       "    </tr>\n",
       "    <tr>\n",
       "      <th>1094</th>\n",
       "      <td>4.592985</td>\n",
       "      <td>1.918550</td>\n",
       "      <td>-0.456387</td>\n",
       "      <td>2.264523</td>\n",
       "      <td>1.918840</td>\n",
       "      <td>0.702761</td>\n",
       "      <td>1</td>\n",
       "    </tr>\n",
       "    <tr>\n",
       "      <th>1095</th>\n",
       "      <td>0.660252</td>\n",
       "      <td>-0.377300</td>\n",
       "      <td>-0.411305</td>\n",
       "      <td>1.708401</td>\n",
       "      <td>3.520855</td>\n",
       "      <td>1.400548</td>\n",
       "      <td>1</td>\n",
       "    </tr>\n",
       "    <tr>\n",
       "      <th>1096</th>\n",
       "      <td>-0.321830</td>\n",
       "      <td>-0.452501</td>\n",
       "      <td>-0.276061</td>\n",
       "      <td>1.325275</td>\n",
       "      <td>13.750423</td>\n",
       "      <td>1.013566</td>\n",
       "      <td>1</td>\n",
       "    </tr>\n",
       "    <tr>\n",
       "      <th>1097</th>\n",
       "      <td>-0.520347</td>\n",
       "      <td>-0.452501</td>\n",
       "      <td>-0.276061</td>\n",
       "      <td>3.001660</td>\n",
       "      <td>13.750423</td>\n",
       "      <td>0.702761</td>\n",
       "      <td>1</td>\n",
       "    </tr>\n",
       "  </tbody>\n",
       "</table>\n",
       "</div>"
      ],
      "text/plain": [
       "            X1        X2        X3        X4         X5        X6  class\n",
       "1093 -0.335889 -0.452501 -0.591631  0.817254  -0.377866  1.034896      1\n",
       "1094  4.592985  1.918550 -0.456387  2.264523   1.918840  0.702761      1\n",
       "1095  0.660252 -0.377300 -0.411305  1.708401   3.520855  1.400548      1\n",
       "1096 -0.321830 -0.452501 -0.276061  1.325275  13.750423  1.013566      1\n",
       "1097 -0.520347 -0.452501 -0.276061  3.001660  13.750423  0.702761      1"
      ]
     },
     "execution_count": 763,
     "metadata": {},
     "output_type": "execute_result"
    }
   ],
   "source": [
    "classB.head()"
   ]
  },
  {
   "cell_type": "code",
   "execution_count": 764,
   "metadata": {},
   "outputs": [],
   "source": [
    "lenA = classA[target].count()\n",
    "halfA = int(round(lenA*0.5))\n",
    "\n",
    "# Divide o dataset da classe A em três datasets com 50%-25%-25%\n",
    "classA_1 = classA[:halfA]\n",
    "classA_2 = classA[halfA:halfA+int(round(halfA/2))]\n",
    "classA_3 = classA[halfA+int(round(halfA/2)):]"
   ]
  },
  {
   "cell_type": "code",
   "execution_count": 765,
   "metadata": {},
   "outputs": [
    {
     "data": {
      "text/plain": [
       "3798"
      ]
     },
     "execution_count": 765,
     "metadata": {},
     "output_type": "execute_result"
    }
   ],
   "source": [
    "classA_1[target].count()"
   ]
  },
  {
   "cell_type": "code",
   "execution_count": 766,
   "metadata": {},
   "outputs": [
    {
     "data": {
      "text/plain": [
       "1899"
      ]
     },
     "execution_count": 766,
     "metadata": {},
     "output_type": "execute_result"
    }
   ],
   "source": [
    "classA_2[target].count()"
   ]
  },
  {
   "cell_type": "code",
   "execution_count": 767,
   "metadata": {},
   "outputs": [
    {
     "data": {
      "text/plain": [
       "1898"
      ]
     },
     "execution_count": 767,
     "metadata": {},
     "output_type": "execute_result"
    }
   ],
   "source": [
    "classA_3[target].count()"
   ]
  },
  {
   "cell_type": "code",
   "execution_count": 768,
   "metadata": {},
   "outputs": [],
   "source": [
    "lenB = classB[target].count()\n",
    "halfB = int(round(lenB*0.5))\n",
    "\n",
    "# Divide o dataset da classe B em três datasets com 50%-25%-25%\n",
    "classB_1 = classB[:halfB]\n",
    "classB_2 = classB[halfB:halfB+int(round(halfB/2))]\n",
    "classB_3 = classB[halfB+int(round(halfB/2)):]\n",
    "\n",
    "# Repete os dados dos dois primeiros conjuntos para que tenham\n",
    "# a mesma quantidade de dados que os conjuntos da classe A\n",
    "lenA_1 = classA_1[target].count() \n",
    "n = int(np.ceil(lenA_1 / float(classB_1[target].count())))\n",
    "classB_1 = pd.concat([classB_1] * n)[:lenA_1]\n",
    "\n",
    "lenA_2 = classA_2[target].count()\n",
    "n = int(np.ceil(lenA_2 / float(classB_2[target].count())))\n",
    "classB_2 = pd.concat([classB_2] * n)[:lenA_2]"
   ]
  },
  {
   "cell_type": "code",
   "execution_count": 769,
   "metadata": {},
   "outputs": [
    {
     "data": {
      "text/plain": [
       "3798"
      ]
     },
     "execution_count": 769,
     "metadata": {},
     "output_type": "execute_result"
    }
   ],
   "source": [
    "classB_1[target].count()"
   ]
  },
  {
   "cell_type": "code",
   "execution_count": 770,
   "metadata": {},
   "outputs": [
    {
     "data": {
      "text/plain": [
       "1899"
      ]
     },
     "execution_count": 770,
     "metadata": {},
     "output_type": "execute_result"
    }
   ],
   "source": [
    "classB_2[target].count()"
   ]
  },
  {
   "cell_type": "code",
   "execution_count": 771,
   "metadata": {},
   "outputs": [
    {
     "data": {
      "text/plain": [
       "64"
      ]
     },
     "execution_count": 771,
     "metadata": {},
     "output_type": "execute_result"
    }
   ],
   "source": [
    "classB_3[target].count()"
   ]
  },
  {
   "cell_type": "code",
   "execution_count": 772,
   "metadata": {},
   "outputs": [
    {
     "data": {
      "text/html": [
       "<div>\n",
       "<style>\n",
       "    .dataframe thead tr:only-child th {\n",
       "        text-align: right;\n",
       "    }\n",
       "\n",
       "    .dataframe thead th {\n",
       "        text-align: left;\n",
       "    }\n",
       "\n",
       "    .dataframe tbody tr th {\n",
       "        vertical-align: top;\n",
       "    }\n",
       "</style>\n",
       "<table border=\"1\" class=\"dataframe\">\n",
       "  <thead>\n",
       "    <tr style=\"text-align: right;\">\n",
       "      <th></th>\n",
       "      <th>X1</th>\n",
       "      <th>X2</th>\n",
       "      <th>X3</th>\n",
       "      <th>X4</th>\n",
       "      <th>X5</th>\n",
       "      <th>X6</th>\n",
       "      <th>class</th>\n",
       "    </tr>\n",
       "  </thead>\n",
       "  <tbody>\n",
       "    <tr>\n",
       "      <th>1351</th>\n",
       "      <td>2.408284</td>\n",
       "      <td>-0.448077</td>\n",
       "      <td>-0.501468</td>\n",
       "      <td>-0.859553</td>\n",
       "      <td>-0.377866</td>\n",
       "      <td>-0.945723</td>\n",
       "      <td>0</td>\n",
       "    </tr>\n",
       "    <tr>\n",
       "      <th>5590</th>\n",
       "      <td>1.891666</td>\n",
       "      <td>-0.231321</td>\n",
       "      <td>-0.366224</td>\n",
       "      <td>-0.859553</td>\n",
       "      <td>-0.377866</td>\n",
       "      <td>-0.945723</td>\n",
       "      <td>1</td>\n",
       "    </tr>\n",
       "    <tr>\n",
       "      <th>2760</th>\n",
       "      <td>-0.252891</td>\n",
       "      <td>-0.381723</td>\n",
       "      <td>2.293588</td>\n",
       "      <td>2.264945</td>\n",
       "      <td>0.427093</td>\n",
       "      <td>1.269523</td>\n",
       "      <td>0</td>\n",
       "    </tr>\n",
       "    <tr>\n",
       "      <th>3539</th>\n",
       "      <td>0.445813</td>\n",
       "      <td>-0.142849</td>\n",
       "      <td>0.039510</td>\n",
       "      <td>1.560720</td>\n",
       "      <td>-0.377866</td>\n",
       "      <td>1.275617</td>\n",
       "      <td>0</td>\n",
       "    </tr>\n",
       "    <tr>\n",
       "      <th>1376</th>\n",
       "      <td>-0.269660</td>\n",
       "      <td>-0.452501</td>\n",
       "      <td>0.310000</td>\n",
       "      <td>-0.859553</td>\n",
       "      <td>-0.377866</td>\n",
       "      <td>-0.945723</td>\n",
       "      <td>0</td>\n",
       "    </tr>\n",
       "  </tbody>\n",
       "</table>\n",
       "</div>"
      ],
      "text/plain": [
       "            X1        X2        X3        X4        X5        X6  class\n",
       "1351  2.408284 -0.448077 -0.501468 -0.859553 -0.377866 -0.945723      0\n",
       "5590  1.891666 -0.231321 -0.366224 -0.859553 -0.377866 -0.945723      1\n",
       "2760 -0.252891 -0.381723  2.293588  2.264945  0.427093  1.269523      0\n",
       "3539  0.445813 -0.142849  0.039510  1.560720 -0.377866  1.275617      0\n",
       "1376 -0.269660 -0.452501  0.310000 -0.859553 -0.377866 -0.945723      0"
      ]
     },
     "execution_count": 772,
     "metadata": {},
     "output_type": "execute_result"
    }
   ],
   "source": [
    "# Cria os datasets de treino, validação e teste concatenando os conjuntos\n",
    "# das classes A e B e aleatorizando a ordem dos exemplos\n",
    "\n",
    "train = pd.concat([classA_1, classB_1]).sample(frac=1)\n",
    "train.head()"
   ]
  },
  {
   "cell_type": "code",
   "execution_count": 773,
   "metadata": {},
   "outputs": [
    {
     "data": {
      "text/html": [
       "<div>\n",
       "<style>\n",
       "    .dataframe thead tr:only-child th {\n",
       "        text-align: right;\n",
       "    }\n",
       "\n",
       "    .dataframe thead th {\n",
       "        text-align: left;\n",
       "    }\n",
       "\n",
       "    .dataframe tbody tr th {\n",
       "        vertical-align: top;\n",
       "    }\n",
       "</style>\n",
       "<table border=\"1\" class=\"dataframe\">\n",
       "  <thead>\n",
       "    <tr style=\"text-align: right;\">\n",
       "      <th></th>\n",
       "      <th>X1</th>\n",
       "      <th>X2</th>\n",
       "      <th>X3</th>\n",
       "      <th>X4</th>\n",
       "      <th>X5</th>\n",
       "      <th>X6</th>\n",
       "      <th>class</th>\n",
       "    </tr>\n",
       "  </thead>\n",
       "  <tbody>\n",
       "    <tr>\n",
       "      <th>6710</th>\n",
       "      <td>3.780117</td>\n",
       "      <td>0.781684</td>\n",
       "      <td>-0.546550</td>\n",
       "      <td>4.343443</td>\n",
       "      <td>-0.377866</td>\n",
       "      <td>0.934341</td>\n",
       "      <td>1</td>\n",
       "    </tr>\n",
       "    <tr>\n",
       "      <th>7409</th>\n",
       "      <td>0.752227</td>\n",
       "      <td>0.786108</td>\n",
       "      <td>0.129673</td>\n",
       "      <td>1.054387</td>\n",
       "      <td>0.683285</td>\n",
       "      <td>1.239052</td>\n",
       "      <td>0</td>\n",
       "    </tr>\n",
       "    <tr>\n",
       "      <th>7812</th>\n",
       "      <td>1.233444</td>\n",
       "      <td>0.418949</td>\n",
       "      <td>-0.501468</td>\n",
       "      <td>1.456500</td>\n",
       "      <td>3.448584</td>\n",
       "      <td>0.955671</td>\n",
       "      <td>1</td>\n",
       "    </tr>\n",
       "    <tr>\n",
       "      <th>8930</th>\n",
       "      <td>1.380807</td>\n",
       "      <td>0.494150</td>\n",
       "      <td>0.039510</td>\n",
       "      <td>4.942182</td>\n",
       "      <td>1.620504</td>\n",
       "      <td>1.537668</td>\n",
       "      <td>1</td>\n",
       "    </tr>\n",
       "    <tr>\n",
       "      <th>7826</th>\n",
       "      <td>0.419729</td>\n",
       "      <td>-0.072071</td>\n",
       "      <td>-0.005571</td>\n",
       "      <td>1.157763</td>\n",
       "      <td>0.757531</td>\n",
       "      <td>1.272570</td>\n",
       "      <td>1</td>\n",
       "    </tr>\n",
       "  </tbody>\n",
       "</table>\n",
       "</div>"
      ],
      "text/plain": [
       "            X1        X2        X3        X4        X5        X6  class\n",
       "6710  3.780117  0.781684 -0.546550  4.343443 -0.377866  0.934341      1\n",
       "7409  0.752227  0.786108  0.129673  1.054387  0.683285  1.239052      0\n",
       "7812  1.233444  0.418949 -0.501468  1.456500  3.448584  0.955671      1\n",
       "8930  1.380807  0.494150  0.039510  4.942182  1.620504  1.537668      1\n",
       "7826  0.419729 -0.072071 -0.005571  1.157763  0.757531  1.272570      1"
      ]
     },
     "execution_count": 773,
     "metadata": {},
     "output_type": "execute_result"
    }
   ],
   "source": [
    "validation = pd.concat([classA_2, classB_2]).sample(frac=1)\n",
    "validation.head()"
   ]
  },
  {
   "cell_type": "code",
   "execution_count": 774,
   "metadata": {},
   "outputs": [
    {
     "data": {
      "text/html": [
       "<div>\n",
       "<style>\n",
       "    .dataframe thead tr:only-child th {\n",
       "        text-align: right;\n",
       "    }\n",
       "\n",
       "    .dataframe thead th {\n",
       "        text-align: left;\n",
       "    }\n",
       "\n",
       "    .dataframe tbody tr th {\n",
       "        vertical-align: top;\n",
       "    }\n",
       "</style>\n",
       "<table border=\"1\" class=\"dataframe\">\n",
       "  <thead>\n",
       "    <tr style=\"text-align: right;\">\n",
       "      <th></th>\n",
       "      <th>X1</th>\n",
       "      <th>X2</th>\n",
       "      <th>X3</th>\n",
       "      <th>X4</th>\n",
       "      <th>X5</th>\n",
       "      <th>X6</th>\n",
       "      <th>class</th>\n",
       "    </tr>\n",
       "  </thead>\n",
       "  <tbody>\n",
       "    <tr>\n",
       "      <th>9499</th>\n",
       "      <td>0.459364</td>\n",
       "      <td>0.255275</td>\n",
       "      <td>-0.501468</td>\n",
       "      <td>-0.859553</td>\n",
       "      <td>-0.377866</td>\n",
       "      <td>-0.945723</td>\n",
       "      <td>0</td>\n",
       "    </tr>\n",
       "    <tr>\n",
       "      <th>10330</th>\n",
       "      <td>-0.066909</td>\n",
       "      <td>-0.279980</td>\n",
       "      <td>0.039510</td>\n",
       "      <td>0.401639</td>\n",
       "      <td>-0.377866</td>\n",
       "      <td>1.172015</td>\n",
       "      <td>0</td>\n",
       "    </tr>\n",
       "    <tr>\n",
       "      <th>10367</th>\n",
       "      <td>-0.180734</td>\n",
       "      <td>-0.315369</td>\n",
       "      <td>1.031305</td>\n",
       "      <td>0.394466</td>\n",
       "      <td>-0.022470</td>\n",
       "      <td>1.278664</td>\n",
       "      <td>0</td>\n",
       "    </tr>\n",
       "    <tr>\n",
       "      <th>8578</th>\n",
       "      <td>0.716657</td>\n",
       "      <td>0.706483</td>\n",
       "      <td>0.535408</td>\n",
       "      <td>0.875060</td>\n",
       "      <td>-0.377866</td>\n",
       "      <td>1.330465</td>\n",
       "      <td>0</td>\n",
       "    </tr>\n",
       "    <tr>\n",
       "      <th>10982</th>\n",
       "      <td>0.735289</td>\n",
       "      <td>5.015071</td>\n",
       "      <td>-0.276061</td>\n",
       "      <td>1.800806</td>\n",
       "      <td>1.244859</td>\n",
       "      <td>0.733232</td>\n",
       "      <td>0</td>\n",
       "    </tr>\n",
       "  </tbody>\n",
       "</table>\n",
       "</div>"
      ],
      "text/plain": [
       "             X1        X2        X3        X4        X5        X6  class\n",
       "9499   0.459364  0.255275 -0.501468 -0.859553 -0.377866 -0.945723      0\n",
       "10330 -0.066909 -0.279980  0.039510  0.401639 -0.377866  1.172015      0\n",
       "10367 -0.180734 -0.315369  1.031305  0.394466 -0.022470  1.278664      0\n",
       "8578   0.716657  0.706483  0.535408  0.875060 -0.377866  1.330465      0\n",
       "10982  0.735289  5.015071 -0.276061  1.800806  1.244859  0.733232      0"
      ]
     },
     "execution_count": 774,
     "metadata": {},
     "output_type": "execute_result"
    }
   ],
   "source": [
    "test = pd.concat([classA_3, classB_3]).sample(frac=1)\n",
    "test.head()"
   ]
  },
  {
   "cell_type": "code",
   "execution_count": 775,
   "metadata": {},
   "outputs": [],
   "source": [
    "#train.to_csv(\"data/oversampling/mammography_train.csv\", index=False)"
   ]
  },
  {
   "cell_type": "code",
   "execution_count": 776,
   "metadata": {},
   "outputs": [],
   "source": [
    "#validation.to_csv(\"data/oversampling/mammography_validation.csv\", index=False)"
   ]
  },
  {
   "cell_type": "code",
   "execution_count": 777,
   "metadata": {},
   "outputs": [],
   "source": [
    "#test.to_csv(\"data/oversampling/mammography_test.csv\", index=False)"
   ]
  },
  {
   "cell_type": "code",
   "execution_count": null,
   "metadata": {},
   "outputs": [],
   "source": []
  }
 ],
 "metadata": {
  "kernelspec": {
   "display_name": "Python 2",
   "language": "python",
   "name": "python2"
  },
  "language_info": {
   "codemirror_mode": {
    "name": "ipython",
    "version": 2
   },
   "file_extension": ".py",
   "mimetype": "text/x-python",
   "name": "python",
   "nbconvert_exporter": "python",
   "pygments_lexer": "ipython2",
   "version": "2.7.10"
  }
 },
 "nbformat": 4,
 "nbformat_minor": 2
}
