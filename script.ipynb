{
 "cells": [
  {
   "cell_type": "code",
   "execution_count": null,
   "metadata": {},
   "outputs": [],
   "source": [
    "import numpy as np\n",
    "import pandas as pd\n",
    "\n",
    "from keras.models import Sequential\n",
    "from keras.layers import Dense\n",
    "from keras.callbacks import EarlyStopping\n",
    "from keras.optimizers import Adam\n",
    "\n",
    "from sklearn.preprocessing import StandardScaler\n",
    "from sklearn.model_selection import train_test_split\n",
    "from sklearn.metrics import confusion_matrix\n",
    "from sklearn.metrics import accuracy_score, recall_score, precision_score, f1_score, roc_auc_score, mean_squared_error\n",
    "\n",
    "import matplotlib\n",
    "matplotlib.use('nbagg')\n",
    "import matplotlib.pyplot as plt"
   ]
  },
  {
   "cell_type": "code",
   "execution_count": null,
   "metadata": {},
   "outputs": [],
   "source": [
    "train = pd.read_csv('data/undersampling/mammography_train.csv')\n",
    "test = pd.read_csv('data/undersampling/mammography_test.csv')\n",
    "val = pd.read_csv('data/undersampling/mammography_validation.csv')\n",
    "\n",
    "X_train = train.iloc[:, :-1].values\n",
    "X_test = test.iloc[:, :-1].values\n",
    "X_val = val.iloc[:, :-1].values\n",
    "\n",
    "y_train = train.iloc[:, -1].values\n",
    "y_test = test.iloc[:, -1].values\n",
    "y_val = val.iloc[:, -1].values\n",
    "\n",
    "scaler = StandardScaler()\n",
    "X_train = scaler.fit_transform(X_train)\n",
    "X_val = scaler.transform(X_val)\n",
    "X_test = scaler.transform(X_test)"
   ]
  },
  {
   "cell_type": "code",
   "execution_count": null,
   "metadata": {},
   "outputs": [],
   "source": [
    "learning_rate = 0.0005\n",
    "hidden_layers = 5\n",
    "act_function = 'relu'\n",
    "\n",
    "neurons = 16\n",
    "decay = 0"
   ]
  },
  {
   "cell_type": "code",
   "execution_count": null,
   "metadata": {},
   "outputs": [],
   "source": [
    "def create_network():\n",
    "    # Aqui criamos o esboço da rede.\n",
    "    classifier = Sequential()\n",
    "\n",
    "    # Agora adicionamos a primeira camada escondida contendo 16 neurônios e função de ativação\n",
    "    # tangente hiperbólica. Por ser a primeira camada adicionada à rede, precisamos especificar\n",
    "    # a dimensão de entrada (número de features do data set), que no caso do mammography são 6.\n",
    "    classifier.add(Dense(neurons, activation=act_function, input_dim=6))\n",
    "    \n",
    "    for i in range(hidden_layers-1):\n",
    "        classifier.add(Dense(neurons, activation=act_function))\n",
    "\n",
    "    # Em seguida adicionamos a camada de saída. Como nosso problema é binário só precisamos de\n",
    "    # 1 neurônio com função de ativação sigmoidal. A partir da segunda camada adicionada keras já\n",
    "    # consegue inferir o número de neurônios de entrada (16) e nós não precisamos mais especificar.\n",
    "    classifier.add(Dense(1, activation='sigmoid'))\n",
    "\n",
    "    # Por fim compilamos o modelo especificando um otimizador, a função de custo, e opcionalmente\n",
    "    # métricas para serem observadas durante treinamento.\n",
    "    adam = Adam(lr=learning_rate, beta_1=0.9, beta_2=0.999, epsilon=1e-08, decay=decay)\n",
    "    classifier.compile(optimizer=adam, loss='mean_squared_error')\n",
    "    return classifier"
   ]
  },
  {
   "cell_type": "code",
   "execution_count": null,
   "metadata": {},
   "outputs": [],
   "source": [
    "def train_network(classifier):\n",
    "    return classifier.fit(X_train, y_train, batch_size=64, epochs=10000, \n",
    "                         callbacks=[EarlyStopping(patience=10)],\n",
    "                         validation_data=(X_val, y_val))"
   ]
  },
  {
   "cell_type": "code",
   "execution_count": null,
   "metadata": {},
   "outputs": [],
   "source": [
    "def extract_final_losses(history):\n",
    "    \"\"\"Função para extrair o melhor loss de treino e validação.\n",
    "    \n",
    "    Argumento(s):\n",
    "    history -- Objeto retornado pela função fit do keras.\n",
    "    \n",
    "    Retorno:\n",
    "    Dicionário contendo o melhor loss de treino e de validação baseado \n",
    "    no menor loss de validação.\n",
    "    \"\"\"\n",
    "    train_loss = history.history['loss']\n",
    "    val_loss = history.history['val_loss']\n",
    "    idx_min_val_loss = np.argmin(val_loss)\n",
    "    return {'train_loss': train_loss[idx_min_val_loss], 'val_loss': val_loss[idx_min_val_loss]}\n"
   ]
  },
  {
   "cell_type": "code",
   "execution_count": null,
   "metadata": {},
   "outputs": [],
   "source": [
    "def plot_training_error_curves(history):\n",
    "    \"\"\"Função para plotar as curvas de erro do treinamento da rede neural.\n",
    "    \n",
    "    Argumento(s):\n",
    "    history -- Objeto retornado pela função fit do keras.\n",
    "    \n",
    "    Retorno:\n",
    "    A função gera o gráfico do treino da rede e retorna None.\n",
    "    \"\"\"\n",
    "    train_loss = history.history['loss']\n",
    "    val_loss = history.history['val_loss']\n",
    "    \n",
    "    fig, ax = plt.subplots()\n",
    "    ax.plot(train_loss, label='Train')\n",
    "    ax.plot(val_loss, label='Validation')\n",
    "    ax.set(title='Training and Validation Error Curves', xlabel='Epochs', ylabel='Loss (MSE)')\n",
    "    ax.legend()\n",
    "    plt.show()"
   ]
  },
  {
   "cell_type": "code",
   "execution_count": null,
   "metadata": {},
   "outputs": [],
   "source": [
    "def predict(classifier, history):\n",
    "    ## Fazer predições no conjunto de teste\n",
    "    y_pred = classifier.predict(X_test)\n",
    "    y_pred_class = classifier.predict_classes(X_test, verbose=0)\n",
    "\n",
    "    ## Matriz de confusão\n",
    "    print('Matriz de confusão')\n",
    "    print(confusion_matrix(y_test, y_pred_class))\n",
    "\n",
    "    ## Computar métricas de desempenho\n",
    "    losses = extract_final_losses(history)\n",
    "    print(\"{metric:<18}{value:.4f}\".format(metric=\"Train Loss:\", value=losses['train_loss']))\n",
    "    print(\"{metric:<18}{value:.4f}\".format(metric=\"Validation Loss:\", value=losses['val_loss']))\n",
    "    print(\"{metric:<18}{value:.4f}\".format(metric=\"MSE:\", value=mean_squared_error(y_test, y_pred)))\n",
    "    print(\"{metric:<18}{value:.4f}\".format(metric=\"Accuracy:\", value=accuracy_score(y_test, y_pred_class)))\n",
    "    print(\"{metric:<18}{value:.4f}\".format(metric=\"Recall:\", value=recall_score(y_test, y_pred_class)))\n",
    "    print(\"{metric:<18}{value:.4f}\".format(metric=\"Precision:\", value=precision_score(y_test, y_pred_class)))\n",
    "    print(\"{metric:<18}{value:.4f}\".format(metric=\"F1:\", value=f1_score(y_test, y_pred_class)))\n",
    "    print(\"{metric:<18}{value:.4f}\".format(metric=\"AUROC:\", value=roc_auc_score(y_test, y_pred)))\n",
    "    print(\"\")\n",
    "    return losses['train_loss'], losses['val_loss'], mean_squared_error(y_test, y_pred), accuracy_score(y_test, y_pred_class), recall_score(y_test, y_pred_class), precision_score(y_test, y_pred_class), f1_score(y_test, y_pred_class), roc_auc_score(y_test, y_pred)"
   ]
  },
  {
   "cell_type": "code",
   "execution_count": null,
   "metadata": {},
   "outputs": [],
   "source": [
    "def run_experiments(n=10):\n",
    "    mse_train = []\n",
    "    mse_val = []\n",
    "    mse_test = []\n",
    "    accuracy = []\n",
    "    recall = []\n",
    "    precision = []\n",
    "    f1 = []\n",
    "    auroc = []\n",
    "    for i in range(n):\n",
    "        print(\"Experiment \" + str(i+1))\n",
    "        classifier = create_network()\n",
    "        history = train_network(classifier)\n",
    "        extract_final_losses(history)\n",
    "        plot_training_error_curves(history)\n",
    "        msetr, msevl, msets, acc, rec, prc, f1_score, roc = predict(classifier, history)\n",
    "        mse_train.append(msetr)\n",
    "        mse_val.append(msevl)\n",
    "        mse_test.append(msets)\n",
    "        accuracy.append(acc)\n",
    "        recall.append(rec)\n",
    "        precision.append(prc)\n",
    "        f1.append(f1_score)\n",
    "        auroc.append(roc)\n",
    "    return mse_train, mse_val, mse_test, accuracy, recall, precision, f1, auroc"
   ]
  },
  {
   "cell_type": "code",
   "execution_count": null,
   "metadata": {
    "scrolled": false
   },
   "outputs": [],
   "source": [
    "mse_train, mse_val, mse_test, accuracy, recall, precision, f1, auroc = run_experiments()"
   ]
  },
  {
   "cell_type": "code",
   "execution_count": null,
   "metadata": {},
   "outputs": [],
   "source": [
    "print(\"Mean\")\n",
    "print(\"MSE Train\")\n",
    "print(np.mean(mse_train))\n",
    "print(\"MSE Test\")\n",
    "print(np.mean(mse_test))\n",
    "print(\"MSE Validation\")\n",
    "print(np.mean(mse_val))\n",
    "print(\"Accuracy\")\n",
    "print(np.mean(accuracy))\n",
    "print(\"Recall\")\n",
    "print(np.mean(recall))\n",
    "print(\"Precision\")\n",
    "print(np.mean(precision))\n",
    "print(\"F1\")\n",
    "print(np.mean(f1))\n",
    "print(\"AUROC\")\n",
    "print(np.mean(auroc))\n",
    "\n",
    "print(\"Standart Deviation\")\n",
    "print(\"MSE Train\")\n",
    "print(np.std(mse_train))\n",
    "print(\"MSE Test\")\n",
    "print(np.std(mse_test))\n",
    "print(\"MSE Validation\")\n",
    "print(np.std(mse_val))\n",
    "print(\"Accuracy\")\n",
    "print(np.std(accuracy))\n",
    "print(\"Recall\")\n",
    "print(np.std(recall))\n",
    "print(\"Precision\")\n",
    "print(np.std(precision))\n",
    "print(\"F1\")\n",
    "print(np.std(f1))\n",
    "print(\"AUROC\")\n",
    "print(np.std(auroc))\n",
    "print(\"\")"
   ]
  },
  {
   "cell_type": "code",
   "execution_count": null,
   "metadata": {},
   "outputs": [],
   "source": [
    "print(learning_rate)\n",
    "print(hidden_layers)\n",
    "print(act_function)\n",
    "print(\"\")\n",
    "print(\"{s1},{s2},{s3},{s4},{s5},{s6},{s7},{s8},{s9},{s10},{s11},{s12},{s13},{s14},{s15},{s16}\"\n",
    "      .format(s1=np.mean(mse_train), s2=np.mean(mse_test), s3=np.mean(mse_val), s4=np.mean(accuracy),\n",
    "             s5=np.mean(recall), s6=np.mean(precision), s7=np.mean(f1), s8=np.mean(auroc),\n",
    "             s9=np.std(mse_train), s10=np.std(mse_test), s11=np.std(mse_val), s12=np.std(accuracy),\n",
    "             s13=np.std(recall), s14=np.std(precision), s15=np.std(f1), s16=np.std(auroc)))\n",
    "print(\"\")"
   ]
  },
  {
   "cell_type": "code",
   "execution_count": null,
   "metadata": {},
   "outputs": [],
   "source": []
  }
 ],
 "metadata": {
  "kernelspec": {
   "display_name": "Python 2",
   "language": "python",
   "name": "python2"
  },
  "language_info": {
   "codemirror_mode": {
    "name": "ipython",
    "version": 2
   },
   "file_extension": ".py",
   "mimetype": "text/x-python",
   "name": "python",
   "nbconvert_exporter": "python",
   "pygments_lexer": "ipython2",
   "version": "2.7.10"
  }
 },
 "nbformat": 4,
 "nbformat_minor": 2
}
