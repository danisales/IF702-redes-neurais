{
 "cells": [
  {
   "cell_type": "code",
   "execution_count": 133,
   "metadata": {},
   "outputs": [],
   "source": [
    "import numpy as np\n",
    "import pandas as pd"
   ]
  },
  {
   "cell_type": "code",
   "execution_count": 134,
   "metadata": {},
   "outputs": [],
   "source": [
    "dataset = pd.read_csv('data/mammography.csv.zip')\n",
    "dataset.drop_duplicates(inplace=True)"
   ]
  },
  {
   "cell_type": "code",
   "execution_count": 135,
   "metadata": {},
   "outputs": [
    {
     "data": {
      "text/html": [
       "<div>\n",
       "<style>\n",
       "    .dataframe thead tr:only-child th {\n",
       "        text-align: right;\n",
       "    }\n",
       "\n",
       "    .dataframe thead th {\n",
       "        text-align: left;\n",
       "    }\n",
       "\n",
       "    .dataframe tbody tr th {\n",
       "        vertical-align: top;\n",
       "    }\n",
       "</style>\n",
       "<table border=\"1\" class=\"dataframe\">\n",
       "  <thead>\n",
       "    <tr style=\"text-align: right;\">\n",
       "      <th></th>\n",
       "      <th>X1</th>\n",
       "      <th>X2</th>\n",
       "      <th>X3</th>\n",
       "      <th>X4</th>\n",
       "      <th>X5</th>\n",
       "      <th>X6</th>\n",
       "      <th>class</th>\n",
       "    </tr>\n",
       "  </thead>\n",
       "  <tbody>\n",
       "    <tr>\n",
       "      <th>0</th>\n",
       "      <td>0.230020</td>\n",
       "      <td>5.072578</td>\n",
       "      <td>-0.276061</td>\n",
       "      <td>0.832444</td>\n",
       "      <td>-0.377866</td>\n",
       "      <td>0.480322</td>\n",
       "      <td>-1</td>\n",
       "    </tr>\n",
       "    <tr>\n",
       "      <th>1</th>\n",
       "      <td>0.155491</td>\n",
       "      <td>-0.169390</td>\n",
       "      <td>0.670652</td>\n",
       "      <td>-0.859553</td>\n",
       "      <td>-0.377866</td>\n",
       "      <td>-0.945723</td>\n",
       "      <td>-1</td>\n",
       "    </tr>\n",
       "    <tr>\n",
       "      <th>2</th>\n",
       "      <td>-0.784415</td>\n",
       "      <td>-0.443654</td>\n",
       "      <td>5.674705</td>\n",
       "      <td>-0.859553</td>\n",
       "      <td>-0.377866</td>\n",
       "      <td>-0.945723</td>\n",
       "      <td>-1</td>\n",
       "    </tr>\n",
       "    <tr>\n",
       "      <th>3</th>\n",
       "      <td>0.546088</td>\n",
       "      <td>0.131415</td>\n",
       "      <td>-0.456387</td>\n",
       "      <td>-0.859553</td>\n",
       "      <td>-0.377866</td>\n",
       "      <td>-0.945723</td>\n",
       "      <td>-1</td>\n",
       "    </tr>\n",
       "    <tr>\n",
       "      <th>4</th>\n",
       "      <td>-0.102987</td>\n",
       "      <td>-0.394994</td>\n",
       "      <td>-0.140816</td>\n",
       "      <td>0.979703</td>\n",
       "      <td>-0.377866</td>\n",
       "      <td>1.013566</td>\n",
       "      <td>-1</td>\n",
       "    </tr>\n",
       "  </tbody>\n",
       "</table>\n",
       "</div>"
      ],
      "text/plain": [
       "         X1        X2        X3        X4        X5        X6  class\n",
       "0  0.230020  5.072578 -0.276061  0.832444 -0.377866  0.480322     -1\n",
       "1  0.155491 -0.169390  0.670652 -0.859553 -0.377866 -0.945723     -1\n",
       "2 -0.784415 -0.443654  5.674705 -0.859553 -0.377866 -0.945723     -1\n",
       "3  0.546088  0.131415 -0.456387 -0.859553 -0.377866 -0.945723     -1\n",
       "4 -0.102987 -0.394994 -0.140816  0.979703 -0.377866  1.013566     -1"
      ]
     },
     "execution_count": 135,
     "metadata": {},
     "output_type": "execute_result"
    }
   ],
   "source": [
    "dataset.head()"
   ]
  },
  {
   "cell_type": "code",
   "execution_count": 136,
   "metadata": {},
   "outputs": [
    {
     "data": {
      "text/html": [
       "<div>\n",
       "<style>\n",
       "    .dataframe thead tr:only-child th {\n",
       "        text-align: right;\n",
       "    }\n",
       "\n",
       "    .dataframe thead th {\n",
       "        text-align: left;\n",
       "    }\n",
       "\n",
       "    .dataframe tbody tr th {\n",
       "        vertical-align: top;\n",
       "    }\n",
       "</style>\n",
       "<table border=\"1\" class=\"dataframe\">\n",
       "  <thead>\n",
       "    <tr style=\"text-align: right;\">\n",
       "      <th></th>\n",
       "      <th>X1</th>\n",
       "      <th>X2</th>\n",
       "      <th>X3</th>\n",
       "      <th>X4</th>\n",
       "      <th>X5</th>\n",
       "      <th>X6</th>\n",
       "      <th>class</th>\n",
       "    </tr>\n",
       "  </thead>\n",
       "  <tbody>\n",
       "    <tr>\n",
       "      <th>11178</th>\n",
       "      <td>-0.250012</td>\n",
       "      <td>-0.377300</td>\n",
       "      <td>-0.321142</td>\n",
       "      <td>1.269157</td>\n",
       "      <td>3.652984</td>\n",
       "      <td>1.092791</td>\n",
       "      <td>1</td>\n",
       "    </tr>\n",
       "    <tr>\n",
       "      <th>11179</th>\n",
       "      <td>0.281343</td>\n",
       "      <td>-0.417112</td>\n",
       "      <td>-0.366224</td>\n",
       "      <td>0.851010</td>\n",
       "      <td>2.789649</td>\n",
       "      <td>1.345700</td>\n",
       "      <td>1</td>\n",
       "    </tr>\n",
       "    <tr>\n",
       "      <th>11180</th>\n",
       "      <td>1.204988</td>\n",
       "      <td>1.763724</td>\n",
       "      <td>-0.501468</td>\n",
       "      <td>1.562408</td>\n",
       "      <td>6.489072</td>\n",
       "      <td>0.931294</td>\n",
       "      <td>1</td>\n",
       "    </tr>\n",
       "    <tr>\n",
       "      <th>11181</th>\n",
       "      <td>0.736644</td>\n",
       "      <td>-0.222474</td>\n",
       "      <td>-0.050653</td>\n",
       "      <td>1.509665</td>\n",
       "      <td>0.539269</td>\n",
       "      <td>1.315229</td>\n",
       "      <td>1</td>\n",
       "    </tr>\n",
       "    <tr>\n",
       "      <th>11182</th>\n",
       "      <td>0.177003</td>\n",
       "      <td>-0.191508</td>\n",
       "      <td>-0.501468</td>\n",
       "      <td>1.578864</td>\n",
       "      <td>7.750705</td>\n",
       "      <td>1.555951</td>\n",
       "      <td>1</td>\n",
       "    </tr>\n",
       "  </tbody>\n",
       "</table>\n",
       "</div>"
      ],
      "text/plain": [
       "             X1        X2        X3        X4        X5        X6  class\n",
       "11178 -0.250012 -0.377300 -0.321142  1.269157  3.652984  1.092791      1\n",
       "11179  0.281343 -0.417112 -0.366224  0.851010  2.789649  1.345700      1\n",
       "11180  1.204988  1.763724 -0.501468  1.562408  6.489072  0.931294      1\n",
       "11181  0.736644 -0.222474 -0.050653  1.509665  0.539269  1.315229      1\n",
       "11182  0.177003 -0.191508 -0.501468  1.578864  7.750705  1.555951      1"
      ]
     },
     "execution_count": 136,
     "metadata": {},
     "output_type": "execute_result"
    }
   ],
   "source": [
    "dataset.tail()"
   ]
  },
  {
   "cell_type": "code",
   "execution_count": 137,
   "metadata": {},
   "outputs": [],
   "source": [
    "target = 'class'\n",
    "# No dataset de mamografia as classes estão definidas como -1 e 1\n",
    "# É preciso que os valores sejam 0 e 1\n",
    "if dataset.loc[dataset[target] == -1][target].count() != 0:\n",
    "    # Todos os valores da coluna 'class' que são -1 são trocados para 0\n",
    "    dataset[target] = dataset[target].map({-1 : 0, 1 : 1})"
   ]
  },
  {
   "cell_type": "code",
   "execution_count": 138,
   "metadata": {
    "scrolled": true
   },
   "outputs": [
    {
     "data": {
      "text/html": [
       "<div>\n",
       "<style>\n",
       "    .dataframe thead tr:only-child th {\n",
       "        text-align: right;\n",
       "    }\n",
       "\n",
       "    .dataframe thead th {\n",
       "        text-align: left;\n",
       "    }\n",
       "\n",
       "    .dataframe tbody tr th {\n",
       "        vertical-align: top;\n",
       "    }\n",
       "</style>\n",
       "<table border=\"1\" class=\"dataframe\">\n",
       "  <thead>\n",
       "    <tr style=\"text-align: right;\">\n",
       "      <th></th>\n",
       "      <th>X1</th>\n",
       "      <th>X2</th>\n",
       "      <th>X3</th>\n",
       "      <th>X4</th>\n",
       "      <th>X5</th>\n",
       "      <th>X6</th>\n",
       "      <th>class</th>\n",
       "    </tr>\n",
       "  </thead>\n",
       "  <tbody>\n",
       "    <tr>\n",
       "      <th>0</th>\n",
       "      <td>0.230020</td>\n",
       "      <td>5.072578</td>\n",
       "      <td>-0.276061</td>\n",
       "      <td>0.832444</td>\n",
       "      <td>-0.377866</td>\n",
       "      <td>0.480322</td>\n",
       "      <td>0</td>\n",
       "    </tr>\n",
       "    <tr>\n",
       "      <th>1</th>\n",
       "      <td>0.155491</td>\n",
       "      <td>-0.169390</td>\n",
       "      <td>0.670652</td>\n",
       "      <td>-0.859553</td>\n",
       "      <td>-0.377866</td>\n",
       "      <td>-0.945723</td>\n",
       "      <td>0</td>\n",
       "    </tr>\n",
       "    <tr>\n",
       "      <th>2</th>\n",
       "      <td>-0.784415</td>\n",
       "      <td>-0.443654</td>\n",
       "      <td>5.674705</td>\n",
       "      <td>-0.859553</td>\n",
       "      <td>-0.377866</td>\n",
       "      <td>-0.945723</td>\n",
       "      <td>0</td>\n",
       "    </tr>\n",
       "    <tr>\n",
       "      <th>3</th>\n",
       "      <td>0.546088</td>\n",
       "      <td>0.131415</td>\n",
       "      <td>-0.456387</td>\n",
       "      <td>-0.859553</td>\n",
       "      <td>-0.377866</td>\n",
       "      <td>-0.945723</td>\n",
       "      <td>0</td>\n",
       "    </tr>\n",
       "    <tr>\n",
       "      <th>4</th>\n",
       "      <td>-0.102987</td>\n",
       "      <td>-0.394994</td>\n",
       "      <td>-0.140816</td>\n",
       "      <td>0.979703</td>\n",
       "      <td>-0.377866</td>\n",
       "      <td>1.013566</td>\n",
       "      <td>0</td>\n",
       "    </tr>\n",
       "  </tbody>\n",
       "</table>\n",
       "</div>"
      ],
      "text/plain": [
       "         X1        X2        X3        X4        X5        X6  class\n",
       "0  0.230020  5.072578 -0.276061  0.832444 -0.377866  0.480322      0\n",
       "1  0.155491 -0.169390  0.670652 -0.859553 -0.377866 -0.945723      0\n",
       "2 -0.784415 -0.443654  5.674705 -0.859553 -0.377866 -0.945723      0\n",
       "3  0.546088  0.131415 -0.456387 -0.859553 -0.377866 -0.945723      0\n",
       "4 -0.102987 -0.394994 -0.140816  0.979703 -0.377866  1.013566      0"
      ]
     },
     "execution_count": 138,
     "metadata": {},
     "output_type": "execute_result"
    }
   ],
   "source": [
    "dataset.head()"
   ]
  },
  {
   "cell_type": "code",
   "execution_count": 139,
   "metadata": {},
   "outputs": [],
   "source": [
    "classA = dataset.loc[dataset[target] == 0] # Cria dataset só com os exemplos da classe 0\n",
    "classB = dataset.loc[dataset[target] == 1] # Cria dataset só com os exemplos da classe 1"
   ]
  },
  {
   "cell_type": "code",
   "execution_count": 140,
   "metadata": {},
   "outputs": [
    {
     "data": {
      "text/html": [
       "<div>\n",
       "<style>\n",
       "    .dataframe thead tr:only-child th {\n",
       "        text-align: right;\n",
       "    }\n",
       "\n",
       "    .dataframe thead th {\n",
       "        text-align: left;\n",
       "    }\n",
       "\n",
       "    .dataframe tbody tr th {\n",
       "        vertical-align: top;\n",
       "    }\n",
       "</style>\n",
       "<table border=\"1\" class=\"dataframe\">\n",
       "  <thead>\n",
       "    <tr style=\"text-align: right;\">\n",
       "      <th></th>\n",
       "      <th>X1</th>\n",
       "      <th>X2</th>\n",
       "      <th>X3</th>\n",
       "      <th>X4</th>\n",
       "      <th>X5</th>\n",
       "      <th>X6</th>\n",
       "      <th>class</th>\n",
       "    </tr>\n",
       "  </thead>\n",
       "  <tbody>\n",
       "    <tr>\n",
       "      <th>0</th>\n",
       "      <td>0.230020</td>\n",
       "      <td>5.072578</td>\n",
       "      <td>-0.276061</td>\n",
       "      <td>0.832444</td>\n",
       "      <td>-0.377866</td>\n",
       "      <td>0.480322</td>\n",
       "      <td>0</td>\n",
       "    </tr>\n",
       "    <tr>\n",
       "      <th>1</th>\n",
       "      <td>0.155491</td>\n",
       "      <td>-0.169390</td>\n",
       "      <td>0.670652</td>\n",
       "      <td>-0.859553</td>\n",
       "      <td>-0.377866</td>\n",
       "      <td>-0.945723</td>\n",
       "      <td>0</td>\n",
       "    </tr>\n",
       "    <tr>\n",
       "      <th>2</th>\n",
       "      <td>-0.784415</td>\n",
       "      <td>-0.443654</td>\n",
       "      <td>5.674705</td>\n",
       "      <td>-0.859553</td>\n",
       "      <td>-0.377866</td>\n",
       "      <td>-0.945723</td>\n",
       "      <td>0</td>\n",
       "    </tr>\n",
       "    <tr>\n",
       "      <th>3</th>\n",
       "      <td>0.546088</td>\n",
       "      <td>0.131415</td>\n",
       "      <td>-0.456387</td>\n",
       "      <td>-0.859553</td>\n",
       "      <td>-0.377866</td>\n",
       "      <td>-0.945723</td>\n",
       "      <td>0</td>\n",
       "    </tr>\n",
       "    <tr>\n",
       "      <th>4</th>\n",
       "      <td>-0.102987</td>\n",
       "      <td>-0.394994</td>\n",
       "      <td>-0.140816</td>\n",
       "      <td>0.979703</td>\n",
       "      <td>-0.377866</td>\n",
       "      <td>1.013566</td>\n",
       "      <td>0</td>\n",
       "    </tr>\n",
       "  </tbody>\n",
       "</table>\n",
       "</div>"
      ],
      "text/plain": [
       "         X1        X2        X3        X4        X5        X6  class\n",
       "0  0.230020  5.072578 -0.276061  0.832444 -0.377866  0.480322      0\n",
       "1  0.155491 -0.169390  0.670652 -0.859553 -0.377866 -0.945723      0\n",
       "2 -0.784415 -0.443654  5.674705 -0.859553 -0.377866 -0.945723      0\n",
       "3  0.546088  0.131415 -0.456387 -0.859553 -0.377866 -0.945723      0\n",
       "4 -0.102987 -0.394994 -0.140816  0.979703 -0.377866  1.013566      0"
      ]
     },
     "execution_count": 140,
     "metadata": {},
     "output_type": "execute_result"
    }
   ],
   "source": [
    "classA.head()"
   ]
  },
  {
   "cell_type": "code",
   "execution_count": 141,
   "metadata": {},
   "outputs": [
    {
     "data": {
      "text/html": [
       "<div>\n",
       "<style>\n",
       "    .dataframe thead tr:only-child th {\n",
       "        text-align: right;\n",
       "    }\n",
       "\n",
       "    .dataframe thead th {\n",
       "        text-align: left;\n",
       "    }\n",
       "\n",
       "    .dataframe tbody tr th {\n",
       "        vertical-align: top;\n",
       "    }\n",
       "</style>\n",
       "<table border=\"1\" class=\"dataframe\">\n",
       "  <thead>\n",
       "    <tr style=\"text-align: right;\">\n",
       "      <th></th>\n",
       "      <th>X1</th>\n",
       "      <th>X2</th>\n",
       "      <th>X3</th>\n",
       "      <th>X4</th>\n",
       "      <th>X5</th>\n",
       "      <th>X6</th>\n",
       "      <th>class</th>\n",
       "    </tr>\n",
       "  </thead>\n",
       "  <tbody>\n",
       "    <tr>\n",
       "      <th>1093</th>\n",
       "      <td>-0.335889</td>\n",
       "      <td>-0.452501</td>\n",
       "      <td>-0.591631</td>\n",
       "      <td>0.817254</td>\n",
       "      <td>-0.377866</td>\n",
       "      <td>1.034896</td>\n",
       "      <td>1</td>\n",
       "    </tr>\n",
       "    <tr>\n",
       "      <th>1094</th>\n",
       "      <td>4.592985</td>\n",
       "      <td>1.918550</td>\n",
       "      <td>-0.456387</td>\n",
       "      <td>2.264523</td>\n",
       "      <td>1.918840</td>\n",
       "      <td>0.702761</td>\n",
       "      <td>1</td>\n",
       "    </tr>\n",
       "    <tr>\n",
       "      <th>1095</th>\n",
       "      <td>0.660252</td>\n",
       "      <td>-0.377300</td>\n",
       "      <td>-0.411305</td>\n",
       "      <td>1.708401</td>\n",
       "      <td>3.520855</td>\n",
       "      <td>1.400548</td>\n",
       "      <td>1</td>\n",
       "    </tr>\n",
       "    <tr>\n",
       "      <th>1096</th>\n",
       "      <td>-0.321830</td>\n",
       "      <td>-0.452501</td>\n",
       "      <td>-0.276061</td>\n",
       "      <td>1.325275</td>\n",
       "      <td>13.750423</td>\n",
       "      <td>1.013566</td>\n",
       "      <td>1</td>\n",
       "    </tr>\n",
       "    <tr>\n",
       "      <th>1097</th>\n",
       "      <td>-0.520347</td>\n",
       "      <td>-0.452501</td>\n",
       "      <td>-0.276061</td>\n",
       "      <td>3.001660</td>\n",
       "      <td>13.750423</td>\n",
       "      <td>0.702761</td>\n",
       "      <td>1</td>\n",
       "    </tr>\n",
       "  </tbody>\n",
       "</table>\n",
       "</div>"
      ],
      "text/plain": [
       "            X1        X2        X3        X4         X5        X6  class\n",
       "1093 -0.335889 -0.452501 -0.591631  0.817254  -0.377866  1.034896      1\n",
       "1094  4.592985  1.918550 -0.456387  2.264523   1.918840  0.702761      1\n",
       "1095  0.660252 -0.377300 -0.411305  1.708401   3.520855  1.400548      1\n",
       "1096 -0.321830 -0.452501 -0.276061  1.325275  13.750423  1.013566      1\n",
       "1097 -0.520347 -0.452501 -0.276061  3.001660  13.750423  0.702761      1"
      ]
     },
     "execution_count": 141,
     "metadata": {},
     "output_type": "execute_result"
    }
   ],
   "source": [
    "classB.head()"
   ]
  },
  {
   "cell_type": "code",
   "execution_count": 142,
   "metadata": {},
   "outputs": [],
   "source": [
    "lenB = classB[target].count()\n",
    "halfB = int(round(lenB*0.5))\n",
    "\n",
    "# Divide o dataset da classe B em três datasets com 50%-25%-25%\n",
    "classB_1 = classB[:halfB]\n",
    "classB_2 = classB[halfB:halfB+int(round(halfB/2))]\n",
    "classB_3 = classB[halfB+int(round(halfB/2)):]"
   ]
  },
  {
   "cell_type": "code",
   "execution_count": 143,
   "metadata": {},
   "outputs": [
    {
     "data": {
      "text/plain": [
       "127"
      ]
     },
     "execution_count": 143,
     "metadata": {},
     "output_type": "execute_result"
    }
   ],
   "source": [
    "classB_1[target].count()"
   ]
  },
  {
   "cell_type": "code",
   "execution_count": 144,
   "metadata": {},
   "outputs": [
    {
     "data": {
      "text/plain": [
       "63"
      ]
     },
     "execution_count": 144,
     "metadata": {},
     "output_type": "execute_result"
    }
   ],
   "source": [
    "classB_2[target].count()"
   ]
  },
  {
   "cell_type": "code",
   "execution_count": 145,
   "metadata": {},
   "outputs": [
    {
     "data": {
      "text/plain": [
       "64"
      ]
     },
     "execution_count": 145,
     "metadata": {},
     "output_type": "execute_result"
    }
   ],
   "source": [
    "classB_3[target].count()"
   ]
  },
  {
   "cell_type": "code",
   "execution_count": 146,
   "metadata": {},
   "outputs": [],
   "source": [
    "# Faz o conjunto de dados da classe A ter o mesmo tamanho\n",
    "# do conjunto de dados da classe B\n",
    "classA = classA[:lenB]"
   ]
  },
  {
   "cell_type": "code",
   "execution_count": 147,
   "metadata": {},
   "outputs": [],
   "source": [
    "# Divide o dataset da classe A em três datasets com 50%-25%-25%\n",
    "classA_1 = classA[:halfB]\n",
    "classA_2 = classA[halfB:halfB+int(round(halfB/2))]\n",
    "classA_3 = classA[halfB+int(round(halfB/2)):]"
   ]
  },
  {
   "cell_type": "code",
   "execution_count": 148,
   "metadata": {},
   "outputs": [
    {
     "data": {
      "text/plain": [
       "127"
      ]
     },
     "execution_count": 148,
     "metadata": {},
     "output_type": "execute_result"
    }
   ],
   "source": [
    "classA_1[target].count()"
   ]
  },
  {
   "cell_type": "code",
   "execution_count": 149,
   "metadata": {},
   "outputs": [
    {
     "data": {
      "text/plain": [
       "63"
      ]
     },
     "execution_count": 149,
     "metadata": {},
     "output_type": "execute_result"
    }
   ],
   "source": [
    "classA_2[target].count()"
   ]
  },
  {
   "cell_type": "code",
   "execution_count": 150,
   "metadata": {},
   "outputs": [
    {
     "data": {
      "text/plain": [
       "64"
      ]
     },
     "execution_count": 150,
     "metadata": {},
     "output_type": "execute_result"
    }
   ],
   "source": [
    "classA_3[target].count()"
   ]
  },
  {
   "cell_type": "code",
   "execution_count": 151,
   "metadata": {},
   "outputs": [
    {
     "data": {
      "text/html": [
       "<div>\n",
       "<style>\n",
       "    .dataframe thead tr:only-child th {\n",
       "        text-align: right;\n",
       "    }\n",
       "\n",
       "    .dataframe thead th {\n",
       "        text-align: left;\n",
       "    }\n",
       "\n",
       "    .dataframe tbody tr th {\n",
       "        vertical-align: top;\n",
       "    }\n",
       "</style>\n",
       "<table border=\"1\" class=\"dataframe\">\n",
       "  <thead>\n",
       "    <tr style=\"text-align: right;\">\n",
       "      <th></th>\n",
       "      <th>X1</th>\n",
       "      <th>X2</th>\n",
       "      <th>X3</th>\n",
       "      <th>X4</th>\n",
       "      <th>X5</th>\n",
       "      <th>X6</th>\n",
       "      <th>class</th>\n",
       "    </tr>\n",
       "  </thead>\n",
       "  <tbody>\n",
       "    <tr>\n",
       "      <th>3332</th>\n",
       "      <td>1.607611</td>\n",
       "      <td>-0.275557</td>\n",
       "      <td>-0.501468</td>\n",
       "      <td>2.029500</td>\n",
       "      <td>6.545243</td>\n",
       "      <td>1.373124</td>\n",
       "      <td>1</td>\n",
       "    </tr>\n",
       "    <tr>\n",
       "      <th>1107</th>\n",
       "      <td>0.127204</td>\n",
       "      <td>-0.293251</td>\n",
       "      <td>-0.456387</td>\n",
       "      <td>1.548906</td>\n",
       "      <td>4.690099</td>\n",
       "      <td>1.583375</td>\n",
       "      <td>1</td>\n",
       "    </tr>\n",
       "    <tr>\n",
       "      <th>163</th>\n",
       "      <td>-0.378404</td>\n",
       "      <td>-0.434807</td>\n",
       "      <td>0.805897</td>\n",
       "      <td>-0.092036</td>\n",
       "      <td>0.255914</td>\n",
       "      <td>1.409690</td>\n",
       "      <td>0</td>\n",
       "    </tr>\n",
       "    <tr>\n",
       "      <th>147</th>\n",
       "      <td>-0.382977</td>\n",
       "      <td>-0.408265</td>\n",
       "      <td>1.482120</td>\n",
       "      <td>1.301646</td>\n",
       "      <td>0.121842</td>\n",
       "      <td>0.861211</td>\n",
       "      <td>0</td>\n",
       "    </tr>\n",
       "    <tr>\n",
       "      <th>1100</th>\n",
       "      <td>3.747256</td>\n",
       "      <td>-0.443654</td>\n",
       "      <td>-0.546550</td>\n",
       "      <td>-0.859553</td>\n",
       "      <td>-0.377866</td>\n",
       "      <td>-0.945723</td>\n",
       "      <td>1</td>\n",
       "    </tr>\n",
       "  </tbody>\n",
       "</table>\n",
       "</div>"
      ],
      "text/plain": [
       "            X1        X2        X3        X4        X5        X6  class\n",
       "3332  1.607611 -0.275557 -0.501468  2.029500  6.545243  1.373124      1\n",
       "1107  0.127204 -0.293251 -0.456387  1.548906  4.690099  1.583375      1\n",
       "163  -0.378404 -0.434807  0.805897 -0.092036  0.255914  1.409690      0\n",
       "147  -0.382977 -0.408265  1.482120  1.301646  0.121842  0.861211      0\n",
       "1100  3.747256 -0.443654 -0.546550 -0.859553 -0.377866 -0.945723      1"
      ]
     },
     "execution_count": 151,
     "metadata": {},
     "output_type": "execute_result"
    }
   ],
   "source": [
    "# Cria os datasets de treino, validação e teste concatenando os conjuntos\n",
    "# das classes A e B e aleatorizando a ordem dos exemplos\n",
    "train = pd.concat([classA_1, classB_1]).sample(frac=1)\n",
    "train.head()"
   ]
  },
  {
   "cell_type": "code",
   "execution_count": 152,
   "metadata": {},
   "outputs": [
    {
     "data": {
      "text/html": [
       "<div>\n",
       "<style>\n",
       "    .dataframe thead tr:only-child th {\n",
       "        text-align: right;\n",
       "    }\n",
       "\n",
       "    .dataframe thead th {\n",
       "        text-align: left;\n",
       "    }\n",
       "\n",
       "    .dataframe tbody tr th {\n",
       "        vertical-align: top;\n",
       "    }\n",
       "</style>\n",
       "<table border=\"1\" class=\"dataframe\">\n",
       "  <thead>\n",
       "    <tr style=\"text-align: right;\">\n",
       "      <th></th>\n",
       "      <th>X1</th>\n",
       "      <th>X2</th>\n",
       "      <th>X3</th>\n",
       "      <th>X4</th>\n",
       "      <th>X5</th>\n",
       "      <th>X6</th>\n",
       "      <th>class</th>\n",
       "    </tr>\n",
       "  </thead>\n",
       "  <tbody>\n",
       "    <tr>\n",
       "      <th>191</th>\n",
       "      <td>-0.321152</td>\n",
       "      <td>-0.425959</td>\n",
       "      <td>-0.005571</td>\n",
       "      <td>1.096159</td>\n",
       "      <td>-0.377866</td>\n",
       "      <td>0.745421</td>\n",
       "      <td>0</td>\n",
       "    </tr>\n",
       "    <tr>\n",
       "      <th>225</th>\n",
       "      <td>-0.008641</td>\n",
       "      <td>-0.302098</td>\n",
       "      <td>2.969812</td>\n",
       "      <td>0.689827</td>\n",
       "      <td>0.138897</td>\n",
       "      <td>0.696667</td>\n",
       "      <td>0</td>\n",
       "    </tr>\n",
       "    <tr>\n",
       "      <th>7812</th>\n",
       "      <td>1.233444</td>\n",
       "      <td>0.418949</td>\n",
       "      <td>-0.501468</td>\n",
       "      <td>1.456500</td>\n",
       "      <td>3.448584</td>\n",
       "      <td>0.955671</td>\n",
       "      <td>1</td>\n",
       "    </tr>\n",
       "    <tr>\n",
       "      <th>207</th>\n",
       "      <td>0.347741</td>\n",
       "      <td>0.242005</td>\n",
       "      <td>0.129673</td>\n",
       "      <td>-0.859553</td>\n",
       "      <td>-0.377866</td>\n",
       "      <td>-0.945723</td>\n",
       "      <td>0</td>\n",
       "    </tr>\n",
       "    <tr>\n",
       "      <th>8931</th>\n",
       "      <td>-0.028967</td>\n",
       "      <td>-0.368452</td>\n",
       "      <td>-0.321142</td>\n",
       "      <td>0.856917</td>\n",
       "      <td>1.835605</td>\n",
       "      <td>1.537668</td>\n",
       "      <td>1</td>\n",
       "    </tr>\n",
       "  </tbody>\n",
       "</table>\n",
       "</div>"
      ],
      "text/plain": [
       "            X1        X2        X3        X4        X5        X6  class\n",
       "191  -0.321152 -0.425959 -0.005571  1.096159 -0.377866  0.745421      0\n",
       "225  -0.008641 -0.302098  2.969812  0.689827  0.138897  0.696667      0\n",
       "7812  1.233444  0.418949 -0.501468  1.456500  3.448584  0.955671      1\n",
       "207   0.347741  0.242005  0.129673 -0.859553 -0.377866 -0.945723      0\n",
       "8931 -0.028967 -0.368452 -0.321142  0.856917  1.835605  1.537668      1"
      ]
     },
     "execution_count": 152,
     "metadata": {},
     "output_type": "execute_result"
    }
   ],
   "source": [
    "validation = pd.concat([classA_2, classB_2]).sample(frac=1)\n",
    "validation.head()"
   ]
  },
  {
   "cell_type": "code",
   "execution_count": 153,
   "metadata": {},
   "outputs": [
    {
     "data": {
      "text/html": [
       "<div>\n",
       "<style>\n",
       "    .dataframe thead tr:only-child th {\n",
       "        text-align: right;\n",
       "    }\n",
       "\n",
       "    .dataframe thead th {\n",
       "        text-align: left;\n",
       "    }\n",
       "\n",
       "    .dataframe tbody tr th {\n",
       "        vertical-align: top;\n",
       "    }\n",
       "</style>\n",
       "<table border=\"1\" class=\"dataframe\">\n",
       "  <thead>\n",
       "    <tr style=\"text-align: right;\">\n",
       "      <th></th>\n",
       "      <th>X1</th>\n",
       "      <th>X2</th>\n",
       "      <th>X3</th>\n",
       "      <th>X4</th>\n",
       "      <th>X5</th>\n",
       "      <th>X6</th>\n",
       "      <th>class</th>\n",
       "    </tr>\n",
       "  </thead>\n",
       "  <tbody>\n",
       "    <tr>\n",
       "      <th>10044</th>\n",
       "      <td>0.401266</td>\n",
       "      <td>0.149109</td>\n",
       "      <td>-0.501468</td>\n",
       "      <td>1.462829</td>\n",
       "      <td>-0.377866</td>\n",
       "      <td>1.650411</td>\n",
       "      <td>1</td>\n",
       "    </tr>\n",
       "    <tr>\n",
       "      <th>318</th>\n",
       "      <td>0.165993</td>\n",
       "      <td>-0.005717</td>\n",
       "      <td>-0.140816</td>\n",
       "      <td>-0.859553</td>\n",
       "      <td>-0.377866</td>\n",
       "      <td>-0.945723</td>\n",
       "      <td>0</td>\n",
       "    </tr>\n",
       "    <tr>\n",
       "      <th>271</th>\n",
       "      <td>0.234762</td>\n",
       "      <td>0.149109</td>\n",
       "      <td>0.084592</td>\n",
       "      <td>-0.859553</td>\n",
       "      <td>-0.377866</td>\n",
       "      <td>-0.945723</td>\n",
       "      <td>0</td>\n",
       "    </tr>\n",
       "    <tr>\n",
       "      <th>11178</th>\n",
       "      <td>-0.250012</td>\n",
       "      <td>-0.377300</td>\n",
       "      <td>-0.321142</td>\n",
       "      <td>1.269157</td>\n",
       "      <td>3.652984</td>\n",
       "      <td>1.092791</td>\n",
       "      <td>1</td>\n",
       "    </tr>\n",
       "    <tr>\n",
       "      <th>317</th>\n",
       "      <td>-0.358586</td>\n",
       "      <td>-0.142849</td>\n",
       "      <td>0.039510</td>\n",
       "      <td>0.572948</td>\n",
       "      <td>-0.377866</td>\n",
       "      <td>1.034896</td>\n",
       "      <td>0</td>\n",
       "    </tr>\n",
       "  </tbody>\n",
       "</table>\n",
       "</div>"
      ],
      "text/plain": [
       "             X1        X2        X3        X4        X5        X6  class\n",
       "10044  0.401266  0.149109 -0.501468  1.462829 -0.377866  1.650411      1\n",
       "318    0.165993 -0.005717 -0.140816 -0.859553 -0.377866 -0.945723      0\n",
       "271    0.234762  0.149109  0.084592 -0.859553 -0.377866 -0.945723      0\n",
       "11178 -0.250012 -0.377300 -0.321142  1.269157  3.652984  1.092791      1\n",
       "317   -0.358586 -0.142849  0.039510  0.572948 -0.377866  1.034896      0"
      ]
     },
     "execution_count": 153,
     "metadata": {},
     "output_type": "execute_result"
    }
   ],
   "source": [
    "test = pd.concat([classA_3, classB_3]).sample(frac=1)\n",
    "test.head()"
   ]
  },
  {
   "cell_type": "code",
   "execution_count": 154,
   "metadata": {},
   "outputs": [],
   "source": [
    "train.to_csv(\"data/undersampling/mammography_train.csv\", index=False)"
   ]
  },
  {
   "cell_type": "code",
   "execution_count": 155,
   "metadata": {},
   "outputs": [],
   "source": [
    "validation.to_csv(\"data/undersampling/mammography_validation.csv\", index=False)"
   ]
  },
  {
   "cell_type": "code",
   "execution_count": 156,
   "metadata": {},
   "outputs": [],
   "source": [
    "test.to_csv(\"data/undersampling/mammography_test.csv\", index=False)"
   ]
  },
  {
   "cell_type": "code",
   "execution_count": null,
   "metadata": {},
   "outputs": [],
   "source": []
  }
 ],
 "metadata": {
  "kernelspec": {
   "display_name": "Python 2",
   "language": "python",
   "name": "python2"
  },
  "language_info": {
   "codemirror_mode": {
    "name": "ipython",
    "version": 2
   },
   "file_extension": ".py",
   "mimetype": "text/x-python",
   "name": "python",
   "nbconvert_exporter": "python",
   "pygments_lexer": "ipython2",
   "version": "2.7.10"
  }
 },
 "nbformat": 4,
 "nbformat_minor": 2
}
